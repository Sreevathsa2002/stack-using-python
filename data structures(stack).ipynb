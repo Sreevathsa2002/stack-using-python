{
 "cells": [
  {
   "cell_type": "code",
   "execution_count": null,
   "id": "6ee51c15",
   "metadata": {},
   "outputs": [],
   "source": []
  },
  {
   "cell_type": "code",
   "execution_count": 60,
   "id": "8b56fc42",
   "metadata": {},
   "outputs": [],
   "source": [
    "class stack:\n",
    "    def __init__(self ,size):\n",
    "        self.size=size\n",
    "        self.top=-1\n",
    "        self.values=[]\n",
    "    \n",
    "    def push(self,ele):\n",
    "        if self.top<self.size-1:\n",
    "            self.values.append(ele)\n",
    "            self.top+=1\n",
    "        else:\n",
    "            print(\"stack overflow\")\n",
    "    \n",
    "    def pop(self):\n",
    "        if self.top!=-1:\n",
    "            self.values.pop()\n",
    "            self.top-=1\n",
    "        else:\n",
    "            print(\"stack is empty\")\n",
    "    \n",
    "    def clear(self):\n",
    "        while self.top!=-1:\n",
    "            self.values.pop()\n",
    "            self.top-=1\n",
    "    \n",
    "    def display(self):\n",
    "        print(self.values)\n",
    "\n",
    "        "
   ]
  },
  {
   "cell_type": "code",
   "execution_count": 61,
   "id": "0b89fd8b",
   "metadata": {},
   "outputs": [],
   "source": [
    "s=stack(3)"
   ]
  },
  {
   "cell_type": "code",
   "execution_count": 62,
   "id": "c6e3eb11",
   "metadata": {},
   "outputs": [],
   "source": [
    "s.push(2)\n",
    "s.push(3)\n",
    "s.push(5)"
   ]
  },
  {
   "cell_type": "code",
   "execution_count": 52,
   "id": "a109b104",
   "metadata": {},
   "outputs": [
    {
     "name": "stdout",
     "output_type": "stream",
     "text": [
      "stack overflow\n"
     ]
    }
   ],
   "source": [
    "s.push(5)"
   ]
  },
  {
   "cell_type": "code",
   "execution_count": 54,
   "id": "62ff3ae1",
   "metadata": {},
   "outputs": [],
   "source": [
    "s.pop()"
   ]
  },
  {
   "cell_type": "code",
   "execution_count": 41,
   "id": "c52f2ff9",
   "metadata": {},
   "outputs": [],
   "source": [
    "s.pop()"
   ]
  },
  {
   "cell_type": "code",
   "execution_count": 42,
   "id": "016886ca",
   "metadata": {},
   "outputs": [],
   "source": [
    "s.pop()"
   ]
  },
  {
   "cell_type": "code",
   "execution_count": 43,
   "id": "49f01f01",
   "metadata": {},
   "outputs": [
    {
     "name": "stdout",
     "output_type": "stream",
     "text": [
      "stack is empty\n"
     ]
    }
   ],
   "source": [
    "s.pop()"
   ]
  },
  {
   "cell_type": "code",
   "execution_count": 64,
   "id": "38812c94",
   "metadata": {},
   "outputs": [],
   "source": [
    "s.clear()"
   ]
  },
  {
   "cell_type": "code",
   "execution_count": 65,
   "id": "402f68f4",
   "metadata": {},
   "outputs": [
    {
     "name": "stdout",
     "output_type": "stream",
     "text": [
      "[]\n"
     ]
    }
   ],
   "source": [
    "s.display()"
   ]
  },
  {
   "cell_type": "code",
   "execution_count": null,
   "id": "6f7cd901",
   "metadata": {},
   "outputs": [],
   "source": []
  }
 ],
 "metadata": {
  "kernelspec": {
   "display_name": "Python 3 (ipykernel)",
   "language": "python",
   "name": "python3"
  },
  "language_info": {
   "codemirror_mode": {
    "name": "ipython",
    "version": 3
   },
   "file_extension": ".py",
   "mimetype": "text/x-python",
   "name": "python",
   "nbconvert_exporter": "python",
   "pygments_lexer": "ipython3",
   "version": "3.9.7"
  }
 },
 "nbformat": 4,
 "nbformat_minor": 5
}
